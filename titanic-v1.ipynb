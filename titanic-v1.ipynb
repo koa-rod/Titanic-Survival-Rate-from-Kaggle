{
 "cells": [
  {
   "cell_type": "code",
   "execution_count": 1,
   "metadata": {
    "_cell_guid": "b1076dfc-b9ad-4769-8c92-a6c4dae69d19",
    "_uuid": "8f2839f25d086af736a60e9eeb907d3b93b6e0e5",
    "execution": {
     "iopub.execute_input": "2020-08-08T17:05:30.666304Z",
     "iopub.status.busy": "2020-08-08T17:05:30.665190Z",
     "iopub.status.idle": "2020-08-08T17:05:30.671130Z",
     "shell.execute_reply": "2020-08-08T17:05:30.671861Z"
    },
    "papermill": {
     "duration": 0.029328,
     "end_time": "2020-08-08T17:05:30.672100",
     "exception": false,
     "start_time": "2020-08-08T17:05:30.642772",
     "status": "completed"
    },
    "tags": []
   },
   "outputs": [
    {
     "name": "stdout",
     "output_type": "stream",
     "text": [
      "/kaggle/input/titanic/test.csv\n",
      "/kaggle/input/titanic/train.csv\n",
      "/kaggle/input/titanic/gender_submission.csv\n"
     ]
    }
   ],
   "source": [
    "# This Python 3 environment comes with many helpful analytics libraries installed\n",
    "# It is defined by the kaggle/python Docker image: https://github.com/kaggle/docker-python\n",
    "# For example, here's several helpful packages to load\n",
    "\n",
    "import numpy as np # linear algebra\n",
    "import pandas as pd # data processing, CSV file I/O (e.g. pd.read_csv)\n",
    "\n",
    "# Input data files are available in the read-only \"../input/\" directory\n",
    "# For example, running this (by clicking run or pressing Shift+Enter) will list all files under the input directory\n",
    "\n",
    "import os\n",
    "for dirname, _, filenames in os.walk('/kaggle/input'):\n",
    "    for filename in filenames:\n",
    "        print(os.path.join(dirname, filename))\n",
    "\n",
    "# You can write up to 5GB to the current directory (/kaggle/working/) that gets preserved as output when you create a version using \"Save & Run All\" \n",
    "# You can also write temporary files to /kaggle/temp/, but they won't be saved outside of the current session"
   ]
  },
  {
   "cell_type": "markdown",
   "metadata": {
    "papermill": {
     "duration": 0.012649,
     "end_time": "2020-08-08T17:05:30.698657",
     "exception": false,
     "start_time": "2020-08-08T17:05:30.686008",
     "status": "completed"
    },
    "tags": []
   },
   "source": [
    "# Load the datasets and review size, types of clmns, clmn names, # of nans, etc"
   ]
  },
  {
   "cell_type": "code",
   "execution_count": 2,
   "metadata": {
    "_cell_guid": "79c7e3d0-c299-4dcb-8224-4455121ee9b0",
    "_uuid": "d629ff2d2480ee46fbb7e2d37f6b5fab8052498a",
    "execution": {
     "iopub.execute_input": "2020-08-08T17:05:30.735927Z",
     "iopub.status.busy": "2020-08-08T17:05:30.735131Z",
     "iopub.status.idle": "2020-08-08T17:05:30.808846Z",
     "shell.execute_reply": "2020-08-08T17:05:30.809455Z"
    },
    "papermill": {
     "duration": 0.095473,
     "end_time": "2020-08-08T17:05:30.809647",
     "exception": false,
     "start_time": "2020-08-08T17:05:30.714174",
     "status": "completed"
    },
    "tags": []
   },
   "outputs": [
    {
     "name": "stdout",
     "output_type": "stream",
     "text": [
      "Index(['PassengerId', 'Survived', 'Pclass', 'Name', 'Sex', 'Age', 'SibSp',\n",
      "       'Parch', 'Ticket', 'Fare', 'Cabin', 'Embarked', 'dataset'],\n",
      "      dtype='object')\n",
      "<class 'pandas.core.frame.DataFrame'>\n",
      "RangeIndex: 891 entries, 0 to 890\n",
      "Data columns (total 13 columns):\n",
      " #   Column       Non-Null Count  Dtype  \n",
      "---  ------       --------------  -----  \n",
      " 0   PassengerId  891 non-null    int64  \n",
      " 1   Survived     891 non-null    int64  \n",
      " 2   Pclass       891 non-null    int64  \n",
      " 3   Name         891 non-null    object \n",
      " 4   Sex          891 non-null    object \n",
      " 5   Age          714 non-null    float64\n",
      " 6   SibSp        891 non-null    int64  \n",
      " 7   Parch        891 non-null    int64  \n",
      " 8   Ticket       891 non-null    object \n",
      " 9   Fare         891 non-null    float64\n",
      " 10  Cabin        204 non-null    object \n",
      " 11  Embarked     889 non-null    object \n",
      " 12  dataset      891 non-null    object \n",
      "dtypes: float64(2), int64(5), object(6)\n",
      "memory usage: 90.6+ KB\n",
      "None\n"
     ]
    },
    {
     "data": {
      "text/html": [
       "<div>\n",
       "<style scoped>\n",
       "    .dataframe tbody tr th:only-of-type {\n",
       "        vertical-align: middle;\n",
       "    }\n",
       "\n",
       "    .dataframe tbody tr th {\n",
       "        vertical-align: top;\n",
       "    }\n",
       "\n",
       "    .dataframe thead th {\n",
       "        text-align: right;\n",
       "    }\n",
       "</style>\n",
       "<table border=\"1\" class=\"dataframe\">\n",
       "  <thead>\n",
       "    <tr style=\"text-align: right;\">\n",
       "      <th></th>\n",
       "      <th>PassengerId</th>\n",
       "      <th>Survived</th>\n",
       "      <th>Pclass</th>\n",
       "      <th>Name</th>\n",
       "      <th>Sex</th>\n",
       "      <th>Age</th>\n",
       "      <th>SibSp</th>\n",
       "      <th>Parch</th>\n",
       "      <th>Ticket</th>\n",
       "      <th>Fare</th>\n",
       "      <th>Cabin</th>\n",
       "      <th>Embarked</th>\n",
       "      <th>dataset</th>\n",
       "    </tr>\n",
       "  </thead>\n",
       "  <tbody>\n",
       "    <tr>\n",
       "      <th>0</th>\n",
       "      <td>1</td>\n",
       "      <td>0.0</td>\n",
       "      <td>3</td>\n",
       "      <td>Braund, Mr. Owen Harris</td>\n",
       "      <td>male</td>\n",
       "      <td>22.0</td>\n",
       "      <td>1</td>\n",
       "      <td>0</td>\n",
       "      <td>A/5 21171</td>\n",
       "      <td>7.2500</td>\n",
       "      <td>NaN</td>\n",
       "      <td>S</td>\n",
       "      <td>train</td>\n",
       "    </tr>\n",
       "    <tr>\n",
       "      <th>1</th>\n",
       "      <td>2</td>\n",
       "      <td>1.0</td>\n",
       "      <td>1</td>\n",
       "      <td>Cumings, Mrs. John Bradley (Florence Briggs Th...</td>\n",
       "      <td>female</td>\n",
       "      <td>38.0</td>\n",
       "      <td>1</td>\n",
       "      <td>0</td>\n",
       "      <td>PC 17599</td>\n",
       "      <td>71.2833</td>\n",
       "      <td>C85</td>\n",
       "      <td>C</td>\n",
       "      <td>train</td>\n",
       "    </tr>\n",
       "    <tr>\n",
       "      <th>2</th>\n",
       "      <td>3</td>\n",
       "      <td>1.0</td>\n",
       "      <td>3</td>\n",
       "      <td>Heikkinen, Miss. Laina</td>\n",
       "      <td>female</td>\n",
       "      <td>26.0</td>\n",
       "      <td>0</td>\n",
       "      <td>0</td>\n",
       "      <td>STON/O2. 3101282</td>\n",
       "      <td>7.9250</td>\n",
       "      <td>NaN</td>\n",
       "      <td>S</td>\n",
       "      <td>train</td>\n",
       "    </tr>\n",
       "    <tr>\n",
       "      <th>3</th>\n",
       "      <td>4</td>\n",
       "      <td>1.0</td>\n",
       "      <td>1</td>\n",
       "      <td>Futrelle, Mrs. Jacques Heath (Lily May Peel)</td>\n",
       "      <td>female</td>\n",
       "      <td>35.0</td>\n",
       "      <td>1</td>\n",
       "      <td>0</td>\n",
       "      <td>113803</td>\n",
       "      <td>53.1000</td>\n",
       "      <td>C123</td>\n",
       "      <td>S</td>\n",
       "      <td>train</td>\n",
       "    </tr>\n",
       "    <tr>\n",
       "      <th>4</th>\n",
       "      <td>5</td>\n",
       "      <td>0.0</td>\n",
       "      <td>3</td>\n",
       "      <td>Allen, Mr. William Henry</td>\n",
       "      <td>male</td>\n",
       "      <td>35.0</td>\n",
       "      <td>0</td>\n",
       "      <td>0</td>\n",
       "      <td>373450</td>\n",
       "      <td>8.0500</td>\n",
       "      <td>NaN</td>\n",
       "      <td>S</td>\n",
       "      <td>train</td>\n",
       "    </tr>\n",
       "  </tbody>\n",
       "</table>\n",
       "</div>"
      ],
      "text/plain": [
       "   PassengerId  Survived  Pclass  \\\n",
       "0            1       0.0       3   \n",
       "1            2       1.0       1   \n",
       "2            3       1.0       3   \n",
       "3            4       1.0       1   \n",
       "4            5       0.0       3   \n",
       "\n",
       "                                                Name     Sex   Age  SibSp  \\\n",
       "0                            Braund, Mr. Owen Harris    male  22.0      1   \n",
       "1  Cumings, Mrs. John Bradley (Florence Briggs Th...  female  38.0      1   \n",
       "2                             Heikkinen, Miss. Laina  female  26.0      0   \n",
       "3       Futrelle, Mrs. Jacques Heath (Lily May Peel)  female  35.0      1   \n",
       "4                           Allen, Mr. William Henry    male  35.0      0   \n",
       "\n",
       "   Parch            Ticket     Fare Cabin Embarked dataset  \n",
       "0      0         A/5 21171   7.2500   NaN        S   train  \n",
       "1      0          PC 17599  71.2833   C85        C   train  \n",
       "2      0  STON/O2. 3101282   7.9250   NaN        S   train  \n",
       "3      0            113803  53.1000  C123        S   train  \n",
       "4      0            373450   8.0500   NaN        S   train  "
      ]
     },
     "execution_count": 2,
     "metadata": {},
     "output_type": "execute_result"
    }
   ],
   "source": [
    "#import train and test datasets\n",
    "train = pd.read_csv('/kaggle/input/titanic/train.csv')\n",
    "test = pd.read_csv('/kaggle/input/titanic/test.csv')\n",
    "#combine train and test to df.  data cleaning and feature engineering will be done on both datasets (e.g. imputing nans, \n",
    "#dropping clmns, creating new clmns)\n",
    "train['dataset'] = 'train'\n",
    "test['dataset'] = 'test'\n",
    "df = train.append(test)\n",
    "\n",
    "print(train.columns)\n",
    "print(train.info())\n",
    "df.head()"
   ]
  },
  {
   "cell_type": "code",
   "execution_count": 3,
   "metadata": {
    "execution": {
     "iopub.execute_input": "2020-08-08T17:05:30.846486Z",
     "iopub.status.busy": "2020-08-08T17:05:30.845288Z",
     "iopub.status.idle": "2020-08-08T17:05:30.884220Z",
     "shell.execute_reply": "2020-08-08T17:05:30.883503Z"
    },
    "papermill": {
     "duration": 0.061069,
     "end_time": "2020-08-08T17:05:30.884371",
     "exception": false,
     "start_time": "2020-08-08T17:05:30.823302",
     "status": "completed"
    },
    "tags": []
   },
   "outputs": [
    {
     "data": {
      "text/html": [
       "<div>\n",
       "<style scoped>\n",
       "    .dataframe tbody tr th:only-of-type {\n",
       "        vertical-align: middle;\n",
       "    }\n",
       "\n",
       "    .dataframe tbody tr th {\n",
       "        vertical-align: top;\n",
       "    }\n",
       "\n",
       "    .dataframe thead th {\n",
       "        text-align: right;\n",
       "    }\n",
       "</style>\n",
       "<table border=\"1\" class=\"dataframe\">\n",
       "  <thead>\n",
       "    <tr style=\"text-align: right;\">\n",
       "      <th></th>\n",
       "      <th>PassengerId</th>\n",
       "      <th>Survived</th>\n",
       "      <th>Pclass</th>\n",
       "      <th>Age</th>\n",
       "      <th>SibSp</th>\n",
       "      <th>Parch</th>\n",
       "      <th>Fare</th>\n",
       "    </tr>\n",
       "  </thead>\n",
       "  <tbody>\n",
       "    <tr>\n",
       "      <th>count</th>\n",
       "      <td>1309.000000</td>\n",
       "      <td>891.000000</td>\n",
       "      <td>1309.000000</td>\n",
       "      <td>1046.000000</td>\n",
       "      <td>1309.000000</td>\n",
       "      <td>1309.000000</td>\n",
       "      <td>1308.000000</td>\n",
       "    </tr>\n",
       "    <tr>\n",
       "      <th>mean</th>\n",
       "      <td>655.000000</td>\n",
       "      <td>0.383838</td>\n",
       "      <td>2.294882</td>\n",
       "      <td>29.881138</td>\n",
       "      <td>0.498854</td>\n",
       "      <td>0.385027</td>\n",
       "      <td>33.295479</td>\n",
       "    </tr>\n",
       "    <tr>\n",
       "      <th>std</th>\n",
       "      <td>378.020061</td>\n",
       "      <td>0.486592</td>\n",
       "      <td>0.837836</td>\n",
       "      <td>14.413493</td>\n",
       "      <td>1.041658</td>\n",
       "      <td>0.865560</td>\n",
       "      <td>51.758668</td>\n",
       "    </tr>\n",
       "    <tr>\n",
       "      <th>min</th>\n",
       "      <td>1.000000</td>\n",
       "      <td>0.000000</td>\n",
       "      <td>1.000000</td>\n",
       "      <td>0.170000</td>\n",
       "      <td>0.000000</td>\n",
       "      <td>0.000000</td>\n",
       "      <td>0.000000</td>\n",
       "    </tr>\n",
       "    <tr>\n",
       "      <th>25%</th>\n",
       "      <td>328.000000</td>\n",
       "      <td>0.000000</td>\n",
       "      <td>2.000000</td>\n",
       "      <td>21.000000</td>\n",
       "      <td>0.000000</td>\n",
       "      <td>0.000000</td>\n",
       "      <td>7.895800</td>\n",
       "    </tr>\n",
       "    <tr>\n",
       "      <th>50%</th>\n",
       "      <td>655.000000</td>\n",
       "      <td>0.000000</td>\n",
       "      <td>3.000000</td>\n",
       "      <td>28.000000</td>\n",
       "      <td>0.000000</td>\n",
       "      <td>0.000000</td>\n",
       "      <td>14.454200</td>\n",
       "    </tr>\n",
       "    <tr>\n",
       "      <th>75%</th>\n",
       "      <td>982.000000</td>\n",
       "      <td>1.000000</td>\n",
       "      <td>3.000000</td>\n",
       "      <td>39.000000</td>\n",
       "      <td>1.000000</td>\n",
       "      <td>0.000000</td>\n",
       "      <td>31.275000</td>\n",
       "    </tr>\n",
       "    <tr>\n",
       "      <th>max</th>\n",
       "      <td>1309.000000</td>\n",
       "      <td>1.000000</td>\n",
       "      <td>3.000000</td>\n",
       "      <td>80.000000</td>\n",
       "      <td>8.000000</td>\n",
       "      <td>9.000000</td>\n",
       "      <td>512.329200</td>\n",
       "    </tr>\n",
       "  </tbody>\n",
       "</table>\n",
       "</div>"
      ],
      "text/plain": [
       "       PassengerId    Survived       Pclass          Age        SibSp  \\\n",
       "count  1309.000000  891.000000  1309.000000  1046.000000  1309.000000   \n",
       "mean    655.000000    0.383838     2.294882    29.881138     0.498854   \n",
       "std     378.020061    0.486592     0.837836    14.413493     1.041658   \n",
       "min       1.000000    0.000000     1.000000     0.170000     0.000000   \n",
       "25%     328.000000    0.000000     2.000000    21.000000     0.000000   \n",
       "50%     655.000000    0.000000     3.000000    28.000000     0.000000   \n",
       "75%     982.000000    1.000000     3.000000    39.000000     1.000000   \n",
       "max    1309.000000    1.000000     3.000000    80.000000     8.000000   \n",
       "\n",
       "             Parch         Fare  \n",
       "count  1309.000000  1308.000000  \n",
       "mean      0.385027    33.295479  \n",
       "std       0.865560    51.758668  \n",
       "min       0.000000     0.000000  \n",
       "25%       0.000000     7.895800  \n",
       "50%       0.000000    14.454200  \n",
       "75%       0.000000    31.275000  \n",
       "max       9.000000   512.329200  "
      ]
     },
     "execution_count": 3,
     "metadata": {},
     "output_type": "execute_result"
    }
   ],
   "source": [
    "df.describe()"
   ]
  },
  {
   "cell_type": "code",
   "execution_count": 4,
   "metadata": {
    "execution": {
     "iopub.execute_input": "2020-08-08T17:05:30.928752Z",
     "iopub.status.busy": "2020-08-08T17:05:30.927954Z",
     "iopub.status.idle": "2020-08-08T17:05:30.931558Z",
     "shell.execute_reply": "2020-08-08T17:05:30.932526Z"
    },
    "papermill": {
     "duration": 0.034383,
     "end_time": "2020-08-08T17:05:30.932748",
     "exception": false,
     "start_time": "2020-08-08T17:05:30.898365",
     "status": "completed"
    },
    "tags": []
   },
   "outputs": [
    {
     "name": "stdout",
     "output_type": "stream",
     "text": [
      "Female survival rate: 0.7420382165605095\n",
      "Male survival rate: 0.18890814558058924\n",
      "Woemn were 3.9X more likely to survive than men.\n"
     ]
    }
   ],
   "source": [
    "#compare survival btwn men and women\n",
    "women = train.loc[train.Sex == 'female'].Survived\n",
    "female_survival_rate = sum(women)/len(women)\n",
    "print('Female survival rate: ' + str(sum(women)/len(women)))\n",
    "\n",
    "men = train.loc[train.Sex =='male'].Survived\n",
    "male_survival_rate = sum(men)/len(men)\n",
    "print('Male survival rate: ' + str(sum(men)/len(men)))\n",
    "\n",
    "print('Woemn were ' + str(round((female_survival_rate/male_survival_rate), 1)) + 'X more likely to survive than men.')"
   ]
  },
  {
   "cell_type": "markdown",
   "metadata": {
    "papermill": {
     "duration": 0.013682,
     "end_time": "2020-08-08T17:05:30.961359",
     "exception": false,
     "start_time": "2020-08-08T17:05:30.947677",
     "status": "completed"
    },
    "tags": []
   },
   "source": [
    "# Start to visualize the data to understand the distribution of continuous numerical data, relationship btwn features, and surival rates based on one or more features\n",
    "This will inform how nans are imputed, data is cleaned, importance of features, and feature engineering"
   ]
  },
  {
   "cell_type": "code",
   "execution_count": 5,
   "metadata": {
    "execution": {
     "iopub.execute_input": "2020-08-08T17:05:30.996719Z",
     "iopub.status.busy": "2020-08-08T17:05:30.995626Z",
     "iopub.status.idle": "2020-08-08T17:05:32.706749Z",
     "shell.execute_reply": "2020-08-08T17:05:32.706064Z"
    },
    "papermill": {
     "duration": 1.731284,
     "end_time": "2020-08-08T17:05:32.706881",
     "exception": false,
     "start_time": "2020-08-08T17:05:30.975597",
     "status": "completed"
    },
    "tags": []
   },
   "outputs": [
    {
     "data": {
      "text/plain": [
       "<matplotlib.axes._subplots.AxesSubplot at 0x7f6571121110>"
      ]
     },
     "execution_count": 5,
     "metadata": {},
     "output_type": "execute_result"
    },
    {
     "data": {
      "image/png": "[encoded data removed]",
      "text/plain": [
       "<Figure size 432x288 with 2 Axes>"
      ]
     },
     "metadata": {
      "needs_background": "light"
     },
     "output_type": "display_data"
    }
   ],
   "source": [
    "import matplotlib.pyplot as plt\n",
    "import seaborn as sns\n",
    "#begin visualizing data to understand distribution of features and relationships btwn features\n",
    "sns.heatmap(df.corr(), annot=True, fmt='.2f')"
   ]
  },
  {
   "cell_type": "code",
   "execution_count": 6,
   "metadata": {
    "execution": {
     "iopub.execute_input": "2020-08-08T17:05:32.753089Z",
     "iopub.status.busy": "2020-08-08T17:05:32.746223Z",
     "iopub.status.idle": "2020-08-08T17:05:33.878325Z",
     "shell.execute_reply": "2020-08-08T17:05:33.878953Z"
    },
    "papermill": {
     "duration": 1.156894,
     "end_time": "2020-08-08T17:05:33.879126",
     "exception": false,
     "start_time": "2020-08-08T17:05:32.722232",
     "status": "completed"
    },
    "tags": []
   },
   "outputs": [
    {
     "data": {
      "image/png": "[encoded data removed]",
      "text/plain": [
       "<Figure size 1296x288 with 3 Axes>"
      ]
     },
     "metadata": {
      "needs_background": "light"
     },
     "output_type": "display_data"
    }
   ],
   "source": [
    "#look at age distribution of different features (pclass, sibsp, parch)\n",
    "plt.figure(figsize=(18,4))\n",
    "plt.subplot(1,3,1)\n",
    "sns.violinplot(data=df, x='Pclass', y='Age', hue='Sex')\n",
    "\n",
    "plt.subplot(1,3,2)\n",
    "sns.violinplot(data=df, x='SibSp', y='Age', hue='Sex')\n",
    "\n",
    "plt.subplot(1,3,3)\n",
    "sns.violinplot(data=df, x='Parch', y='Age', hue='Sex')\n",
    "plt.show()"
   ]
  },
  {
   "cell_type": "code",
   "execution_count": 7,
   "metadata": {
    "execution": {
     "iopub.execute_input": "2020-08-08T17:05:34.027354Z",
     "iopub.status.busy": "2020-08-08T17:05:34.019785Z",
     "iopub.status.idle": "2020-08-08T17:05:37.073780Z",
     "shell.execute_reply": "2020-08-08T17:05:37.074374Z"
    },
    "papermill": {
     "duration": 3.179777,
     "end_time": "2020-08-08T17:05:37.074561",
     "exception": false,
     "start_time": "2020-08-08T17:05:33.894784",
     "status": "completed"
    },
    "tags": []
   },
   "outputs": [
    {
     "data": {
      "image/png": "[encoded data removed]",
      "text/plain": [
       "<Figure size 432x288 with 1 Axes>"
      ]
     },
     "metadata": {
      "needs_background": "light"
     },
     "output_type": "display_data"
    },
    {
     "data": {
      "image/png": "[encoded data removed]",
      "text/plain": [
       "<Figure size 432x288 with 1 Axes>"
      ]
     },
     "metadata": {
      "needs_background": "light"
     },
     "output_type": "display_data"
    },
    {
     "data": {
      "text/plain": [
       "<Figure size 432x288 with 0 Axes>"
      ]
     },
     "metadata": {},
     "output_type": "display_data"
    },
    {
     "data": {
      "image/png": "[encoded data removed]",
      "text/plain": [
       "<Figure size 430.5x360 with 1 Axes>"
      ]
     },
     "metadata": {
      "needs_background": "light"
     },
     "output_type": "display_data"
    },
    {
     "data": {
      "text/plain": [
       "<Figure size 432x288 with 0 Axes>"
      ]
     },
     "metadata": {},
     "output_type": "display_data"
    },
    {
     "data": {
      "image/png": "[encoded data removed]",
      "text/plain": [
       "<Figure size 430.5x360 with 1 Axes>"
      ]
     },
     "metadata": {
      "needs_background": "light"
     },
     "output_type": "display_data"
    },
    {
     "data": {
      "text/plain": [
       "<Figure size 432x288 with 0 Axes>"
      ]
     },
     "metadata": {},
     "output_type": "display_data"
    },
    {
     "data": {
      "image/png": "[encoded data removed]",
      "text/plain": [
       "<Figure size 430.5x360 with 1 Axes>"
      ]
     },
     "metadata": {
      "needs_background": "light"
     },
     "output_type": "display_data"
    },
    {
     "data": {
      "text/plain": [
       "<Figure size 432x288 with 0 Axes>"
      ]
     },
     "metadata": {},
     "output_type": "display_data"
    },
    {
     "data": {
      "image/png": "[encoded data removed]",
      "text/plain": [
       "<Figure size 430.5x360 with 1 Axes>"
      ]
     },
     "metadata": {
      "needs_background": "light"
     },
     "output_type": "display_data"
    },
    {
     "data": {
      "text/plain": [
       "<Figure size 432x288 with 0 Axes>"
      ]
     },
     "metadata": {},
     "output_type": "display_data"
    }
   ],
   "source": [
    "continuous = ['Age','Fare']\n",
    "categorical = ['Pclass', 'SibSp','Parch', 'Embarked']\n",
    "#check distribution of age and fare\n",
    "for i in continuous:\n",
    "    sns.distplot(df[i])\n",
    "    plt.show()\n",
    "    plt.clf()\n",
    "#compare survival rates of categorical features, broken out by sex\n",
    "for i in categorical:\n",
    "    sns.catplot(data=train, x=i, y='Survived', hue='Sex',kind='point')\n",
    "    plt.plot()\n",
    "    plt.show()\n",
    "    plt.clf()"
   ]
  },
  {
   "cell_type": "code",
   "execution_count": 8,
   "metadata": {
    "execution": {
     "iopub.execute_input": "2020-08-08T17:05:37.126990Z",
     "iopub.status.busy": "2020-08-08T17:05:37.123281Z",
     "iopub.status.idle": "2020-08-08T17:05:37.136522Z",
     "shell.execute_reply": "2020-08-08T17:05:37.135694Z"
    },
    "papermill": {
     "duration": 0.044046,
     "end_time": "2020-08-08T17:05:37.136659",
     "exception": false,
     "start_time": "2020-08-08T17:05:37.092613",
     "status": "completed"
    },
    "tags": []
   },
   "outputs": [
    {
     "name": "stdout",
     "output_type": "stream",
     "text": [
      "PassengerId       0\n",
      "Survived        418\n",
      "Pclass            0\n",
      "Name              0\n",
      "Sex               0\n",
      "Age             263\n",
      "SibSp             0\n",
      "Parch             0\n",
      "Ticket            0\n",
      "Fare              1\n",
      "Cabin          1014\n",
      "Embarked          2\n",
      "dataset           0\n",
      "dtype: int64\n",
      "S    914\n",
      "C    270\n",
      "Q    123\n",
      "Name: Embarked, dtype: int64\n"
     ]
    },
    {
     "data": {
      "text/plain": [
       "PassengerId       0\n",
       "Survived        418\n",
       "Pclass            0\n",
       "Name              0\n",
       "Sex               0\n",
       "Age             263\n",
       "SibSp             0\n",
       "Parch             0\n",
       "Ticket            0\n",
       "Fare              0\n",
       "Cabin          1014\n",
       "Embarked          0\n",
       "dataset           0\n",
       "dtype: int64"
      ]
     },
     "execution_count": 8,
     "metadata": {},
     "output_type": "execute_result"
    }
   ],
   "source": [
    "print(df.isna().sum())\n",
    "print(df.Embarked.value_counts())\n",
    "#fill nan for fare w/ median, and embarked w/ S (port w/ highest # of departures)\n",
    "df.fillna(value={'Fare':df.Fare.median(), 'Embarked':'S'}, inplace=True)\n",
    "df.isna().sum()"
   ]
  },
  {
   "cell_type": "code",
   "execution_count": 9,
   "metadata": {
    "execution": {
     "iopub.execute_input": "2020-08-08T17:05:37.183632Z",
     "iopub.status.busy": "2020-08-08T17:05:37.182800Z",
     "iopub.status.idle": "2020-08-08T17:05:37.205590Z",
     "shell.execute_reply": "2020-08-08T17:05:37.204741Z"
    },
    "papermill": {
     "duration": 0.050962,
     "end_time": "2020-08-08T17:05:37.205730",
     "exception": false,
     "start_time": "2020-08-08T17:05:37.154768",
     "status": "completed"
    },
    "tags": []
   },
   "outputs": [
    {
     "data": {
      "text/html": [
       "<div>\n",
       "<style scoped>\n",
       "    .dataframe tbody tr th:only-of-type {\n",
       "        vertical-align: middle;\n",
       "    }\n",
       "\n",
       "    .dataframe tbody tr th {\n",
       "        vertical-align: top;\n",
       "    }\n",
       "\n",
       "    .dataframe thead th {\n",
       "        text-align: right;\n",
       "    }\n",
       "</style>\n",
       "<table border=\"1\" class=\"dataframe\">\n",
       "  <thead>\n",
       "    <tr style=\"text-align: right;\">\n",
       "      <th>Pclass</th>\n",
       "      <th>1</th>\n",
       "      <th>2</th>\n",
       "      <th>3</th>\n",
       "    </tr>\n",
       "    <tr>\n",
       "      <th>Survived</th>\n",
       "      <th></th>\n",
       "      <th></th>\n",
       "      <th></th>\n",
       "    </tr>\n",
       "  </thead>\n",
       "  <tbody>\n",
       "    <tr>\n",
       "      <th>0.0</th>\n",
       "      <td>80</td>\n",
       "      <td>97</td>\n",
       "      <td>372</td>\n",
       "    </tr>\n",
       "    <tr>\n",
       "      <th>1.0</th>\n",
       "      <td>136</td>\n",
       "      <td>87</td>\n",
       "      <td>119</td>\n",
       "    </tr>\n",
       "  </tbody>\n",
       "</table>\n",
       "</div>"
      ],
      "text/plain": [
       "Pclass      1   2    3\n",
       "Survived              \n",
       "0.0        80  97  372\n",
       "1.0       136  87  119"
      ]
     },
     "execution_count": 9,
     "metadata": {},
     "output_type": "execute_result"
    }
   ],
   "source": [
    "#survival rate by pclass\n",
    "pd.pivot_table(data=df, columns='Pclass', index='Survived', values='Name', aggfunc='count')"
   ]
  },
  {
   "cell_type": "code",
   "execution_count": 10,
   "metadata": {
    "execution": {
     "iopub.execute_input": "2020-08-08T17:05:37.262453Z",
     "iopub.status.busy": "2020-08-08T17:05:37.256794Z",
     "iopub.status.idle": "2020-08-08T17:05:38.111119Z",
     "shell.execute_reply": "2020-08-08T17:05:38.111715Z"
    },
    "papermill": {
     "duration": 0.88764,
     "end_time": "2020-08-08T17:05:38.111891",
     "exception": false,
     "start_time": "2020-08-08T17:05:37.224251",
     "status": "completed"
    },
    "tags": []
   },
   "outputs": [
    {
     "data": {
      "image/png": "[encoded data removed]",
      "text/plain": [
       "<Figure size 1131.88x360 with 3 Axes>"
      ]
     },
     "metadata": {
      "needs_background": "light"
     },
     "output_type": "display_data"
    }
   ],
   "source": [
    "#visualize survival at the three ports, by passenger class and age\n",
    "sns.catplot(x='Pclass', y='Age', data=train, hue='Survived', col='Embarked')\n",
    "plt.show()"
   ]
  },
  {
   "cell_type": "markdown",
   "metadata": {
    "papermill": {
     "duration": 0.0186,
     "end_time": "2020-08-08T17:05:38.149759",
     "exception": false,
     "start_time": "2020-08-08T17:05:38.131159",
     "status": "completed"
    },
    "tags": []
   },
   "source": [
    "# Start to impute data and create new features by grouping data, extracting titles, and predicting age\n",
    "The old adage \"women and children first\" appears to have some value for this data.  More important to have high accuracy for a person's age group rather than a continuous numerical result for age.  Understanding if a passenger is a child or middle aged or elderly will better inform the model than having high accuracy for age (eg. 24+/-3yrs)."
   ]
  },
  {
   "cell_type": "code",
   "execution_count": 11,
   "metadata": {
    "execution": {
     "iopub.execute_input": "2020-08-08T17:05:38.203551Z",
     "iopub.status.busy": "2020-08-08T17:05:38.202544Z",
     "iopub.status.idle": "2020-08-08T17:05:38.207912Z",
     "shell.execute_reply": "2020-08-08T17:05:38.208492Z"
    },
    "papermill": {
     "duration": 0.039501,
     "end_time": "2020-08-08T17:05:38.208664",
     "exception": false,
     "start_time": "2020-08-08T17:05:38.169163",
     "status": "completed"
    },
    "tags": []
   },
   "outputs": [
    {
     "data": {
      "text/plain": [
       "n    1014\n",
       "C      95\n",
       "B      65\n",
       "D      46\n",
       "E      41\n",
       "A      22\n",
       "F      21\n",
       "G       5\n",
       "Name: cabin_letter, dtype: int64"
      ]
     },
     "execution_count": 11,
     "metadata": {},
     "output_type": "execute_result"
    }
   ],
   "source": [
    "#create new feature w/ just cabin letter to narrow dimensionality\n",
    "df['cabin_letter'] = df.Cabin.apply(lambda x: str(x)[0])\n",
    "#only one passenger in cabin T, so replace it w/ common cabin C to reduce dimensionality\n",
    "df.cabin_letter = df.cabin_letter.replace('T', 'C')\n",
    "\n",
    "df.cabin_letter.value_counts()"
   ]
  },
  {
   "cell_type": "code",
   "execution_count": 12,
   "metadata": {
    "execution": {
     "iopub.execute_input": "2020-08-08T17:05:38.258839Z",
     "iopub.status.busy": "2020-08-08T17:05:38.257560Z",
     "iopub.status.idle": "2020-08-08T17:05:38.283016Z",
     "shell.execute_reply": "2020-08-08T17:05:38.283628Z"
    },
    "papermill": {
     "duration": 0.055693,
     "end_time": "2020-08-08T17:05:38.283812",
     "exception": false,
     "start_time": "2020-08-08T17:05:38.228119",
     "status": "completed"
    },
    "tags": []
   },
   "outputs": [
    {
     "data": {
      "text/html": [
       "<div>\n",
       "<style scoped>\n",
       "    .dataframe tbody tr th:only-of-type {\n",
       "        vertical-align: middle;\n",
       "    }\n",
       "\n",
       "    .dataframe tbody tr th {\n",
       "        vertical-align: top;\n",
       "    }\n",
       "\n",
       "    .dataframe thead th {\n",
       "        text-align: right;\n",
       "    }\n",
       "</style>\n",
       "<table border=\"1\" class=\"dataframe\">\n",
       "  <thead>\n",
       "    <tr style=\"text-align: right;\">\n",
       "      <th>cabin_letter</th>\n",
       "      <th>A</th>\n",
       "      <th>B</th>\n",
       "      <th>C</th>\n",
       "      <th>D</th>\n",
       "      <th>E</th>\n",
       "      <th>F</th>\n",
       "      <th>G</th>\n",
       "      <th>n</th>\n",
       "    </tr>\n",
       "    <tr>\n",
       "      <th>Survived</th>\n",
       "      <th></th>\n",
       "      <th></th>\n",
       "      <th></th>\n",
       "      <th></th>\n",
       "      <th></th>\n",
       "      <th></th>\n",
       "      <th></th>\n",
       "      <th></th>\n",
       "    </tr>\n",
       "  </thead>\n",
       "  <tbody>\n",
       "    <tr>\n",
       "      <th>0.0</th>\n",
       "      <td>8</td>\n",
       "      <td>12</td>\n",
       "      <td>25</td>\n",
       "      <td>8</td>\n",
       "      <td>8</td>\n",
       "      <td>5</td>\n",
       "      <td>2</td>\n",
       "      <td>481</td>\n",
       "    </tr>\n",
       "    <tr>\n",
       "      <th>1.0</th>\n",
       "      <td>7</td>\n",
       "      <td>35</td>\n",
       "      <td>35</td>\n",
       "      <td>25</td>\n",
       "      <td>24</td>\n",
       "      <td>8</td>\n",
       "      <td>2</td>\n",
       "      <td>206</td>\n",
       "    </tr>\n",
       "  </tbody>\n",
       "</table>\n",
       "</div>"
      ],
      "text/plain": [
       "cabin_letter  A   B   C   D   E  F  G    n\n",
       "Survived                                  \n",
       "0.0           8  12  25   8   8  5  2  481\n",
       "1.0           7  35  35  25  24  8  2  206"
      ]
     },
     "execution_count": 12,
     "metadata": {},
     "output_type": "execute_result"
    }
   ],
   "source": [
    "#look at survival rate by cabin letter.  is cabin a useful feature? Yes, passengers in D, E, and B have a >70% survival rate vs\n",
    "#other cabins (<60%)\n",
    "pd.pivot_table(data=df, columns='cabin_letter', index='Survived', values='Name', aggfunc='count')"
   ]
  },
  {
   "cell_type": "code",
   "execution_count": 13,
   "metadata": {
    "execution": {
     "iopub.execute_input": "2020-08-08T17:05:38.342232Z",
     "iopub.status.busy": "2020-08-08T17:05:38.337164Z",
     "iopub.status.idle": "2020-08-08T17:05:38.345993Z",
     "shell.execute_reply": "2020-08-08T17:05:38.346609Z"
    },
    "papermill": {
     "duration": 0.038673,
     "end_time": "2020-08-08T17:05:38.346778",
     "exception": false,
     "start_time": "2020-08-08T17:05:38.308105",
     "status": "completed"
    },
    "tags": []
   },
   "outputs": [],
   "source": [
    "#split fare into groups\n",
    "fare_labels = ['fare_q1', 'fare_q2', 'fare_q3', 'fare_q4']\n",
    "df['fare_grouped'] = pd.qcut(df.Fare, 4, labels=fare_labels)"
   ]
  },
  {
   "cell_type": "code",
   "execution_count": 14,
   "metadata": {
    "execution": {
     "iopub.execute_input": "2020-08-08T17:05:38.402650Z",
     "iopub.status.busy": "2020-08-08T17:05:38.401765Z",
     "iopub.status.idle": "2020-08-08T17:05:39.017611Z",
     "shell.execute_reply": "2020-08-08T17:05:39.016865Z"
    },
    "papermill": {
     "duration": 0.651013,
     "end_time": "2020-08-08T17:05:39.017750",
     "exception": false,
     "start_time": "2020-08-08T17:05:38.366737",
     "status": "completed"
    },
    "tags": []
   },
   "outputs": [
    {
     "data": {
      "text/plain": [
       "[]"
      ]
     },
     "execution_count": 14,
     "metadata": {},
     "output_type": "execute_result"
    },
    {
     "data": {
      "image/png": "[encoded data removed]",
      "text/plain": [
       "<Figure size 430.5x360 with 1 Axes>"
      ]
     },
     "metadata": {
      "needs_background": "light"
     },
     "output_type": "display_data"
    }
   ],
   "source": [
    "#how does fare impact survival\n",
    "sns.catplot(data=df, x='fare_grouped', y='Survived', hue='Sex', kind='point')\n",
    "plt.plot()"
   ]
  },
  {
   "cell_type": "code",
   "execution_count": 15,
   "metadata": {
    "execution": {
     "iopub.execute_input": "2020-08-08T17:05:39.069773Z",
     "iopub.status.busy": "2020-08-08T17:05:39.067231Z",
     "iopub.status.idle": "2020-08-08T17:05:39.098004Z",
     "shell.execute_reply": "2020-08-08T17:05:39.097342Z"
    },
    "papermill": {
     "duration": 0.060079,
     "end_time": "2020-08-08T17:05:39.098148",
     "exception": false,
     "start_time": "2020-08-08T17:05:39.038069",
     "status": "completed"
    },
    "tags": []
   },
   "outputs": [
    {
     "data": {
      "text/html": [
       "<div>\n",
       "<style scoped>\n",
       "    .dataframe tbody tr th:only-of-type {\n",
       "        vertical-align: middle;\n",
       "    }\n",
       "\n",
       "    .dataframe tbody tr th {\n",
       "        vertical-align: top;\n",
       "    }\n",
       "\n",
       "    .dataframe thead th {\n",
       "        text-align: right;\n",
       "    }\n",
       "</style>\n",
       "<table border=\"1\" class=\"dataframe\">\n",
       "  <thead>\n",
       "    <tr style=\"text-align: right;\">\n",
       "      <th>family_size</th>\n",
       "      <th>0</th>\n",
       "      <th>1</th>\n",
       "      <th>2</th>\n",
       "      <th>3</th>\n",
       "      <th>4</th>\n",
       "      <th>5</th>\n",
       "      <th>6</th>\n",
       "      <th>7</th>\n",
       "      <th>10</th>\n",
       "    </tr>\n",
       "    <tr>\n",
       "      <th>Survived</th>\n",
       "      <th></th>\n",
       "      <th></th>\n",
       "      <th></th>\n",
       "      <th></th>\n",
       "      <th></th>\n",
       "      <th></th>\n",
       "      <th></th>\n",
       "      <th></th>\n",
       "      <th></th>\n",
       "    </tr>\n",
       "  </thead>\n",
       "  <tbody>\n",
       "    <tr>\n",
       "      <th>0.0</th>\n",
       "      <td>374.0</td>\n",
       "      <td>72.0</td>\n",
       "      <td>43.0</td>\n",
       "      <td>8.0</td>\n",
       "      <td>12.0</td>\n",
       "      <td>19.0</td>\n",
       "      <td>8.0</td>\n",
       "      <td>6.0</td>\n",
       "      <td>7.0</td>\n",
       "    </tr>\n",
       "    <tr>\n",
       "      <th>1.0</th>\n",
       "      <td>163.0</td>\n",
       "      <td>89.0</td>\n",
       "      <td>59.0</td>\n",
       "      <td>21.0</td>\n",
       "      <td>3.0</td>\n",
       "      <td>3.0</td>\n",
       "      <td>4.0</td>\n",
       "      <td>NaN</td>\n",
       "      <td>NaN</td>\n",
       "    </tr>\n",
       "  </tbody>\n",
       "</table>\n",
       "</div>"
      ],
      "text/plain": [
       "family_size     0     1     2     3     4     5    6    7    10\n",
       "Survived                                                       \n",
       "0.0          374.0  72.0  43.0   8.0  12.0  19.0  8.0  6.0  7.0\n",
       "1.0          163.0  89.0  59.0  21.0   3.0   3.0  4.0  NaN  NaN"
      ]
     },
     "execution_count": 15,
     "metadata": {},
     "output_type": "execute_result"
    }
   ],
   "source": [
    "#create new feature for family size that combines Parc and SibSp\n",
    "df['family_size'] = df.Parch + df.SibSp\n",
    "pd.pivot_table(data=df, columns='family_size', index='Survived', values='Name', aggfunc='count')"
   ]
  },
  {
   "cell_type": "code",
   "execution_count": 16,
   "metadata": {
    "execution": {
     "iopub.execute_input": "2020-08-08T17:05:39.194442Z",
     "iopub.status.busy": "2020-08-08T17:05:39.193614Z",
     "iopub.status.idle": "2020-08-08T17:05:39.646685Z",
     "shell.execute_reply": "2020-08-08T17:05:39.645820Z"
    },
    "papermill": {
     "duration": 0.528254,
     "end_time": "2020-08-08T17:05:39.646825",
     "exception": false,
     "start_time": "2020-08-08T17:05:39.118571",
     "status": "completed"
    },
    "tags": []
   },
   "outputs": [
    {
     "data": {
      "text/plain": [
       "<matplotlib.axes._subplots.AxesSubplot at 0x7f656aff80d0>"
      ]
     },
     "execution_count": 16,
     "metadata": {},
     "output_type": "execute_result"
    },
    {
     "data": {
      "image/png": "[encoded data removed]",
      "text/plain": [
       "<Figure size 432x288 with 1 Axes>"
      ]
     },
     "metadata": {
      "needs_background": "light"
     },
     "output_type": "display_data"
    }
   ],
   "source": [
    "#visualize age dist of diff family sizes\n",
    "sns.violinplot(data=df, x='family_size', y='Age', hue='Sex')"
   ]
  },
  {
   "cell_type": "code",
   "execution_count": 17,
   "metadata": {
    "execution": {
     "iopub.execute_input": "2020-08-08T17:05:39.712867Z",
     "iopub.status.busy": "2020-08-08T17:05:39.711718Z",
     "iopub.status.idle": "2020-08-08T17:05:39.717336Z",
     "shell.execute_reply": "2020-08-08T17:05:39.717920Z"
    },
    "papermill": {
     "duration": 0.049207,
     "end_time": "2020-08-08T17:05:39.718133",
     "exception": false,
     "start_time": "2020-08-08T17:05:39.668926",
     "status": "completed"
    },
    "tags": []
   },
   "outputs": [
    {
     "data": {
      "text/plain": [
       "Mr              757\n",
       "Miss            260\n",
       "Mrs             197\n",
       "Master           61\n",
       "Dr                8\n",
       "Rev               8\n",
       "Col               4\n",
       "Major             2\n",
       "Mlle              2\n",
       "Ms                2\n",
       "Mme               1\n",
       "Lady              1\n",
       "Jonkheer          1\n",
       "Sir               1\n",
       "Don               1\n",
       "Dona              1\n",
       "Capt              1\n",
       "the Countess      1\n",
       "Name: Title, dtype: int64"
      ]
     },
     "execution_count": 17,
     "metadata": {},
     "output_type": "execute_result"
    }
   ],
   "source": [
    "#create Title feature by splitting the Name clmn\n",
    "df['Title'] = df.Name.apply(lambda x: x.split(',')[1].split('.')[0].strip())\n",
    "df.Title.value_counts()"
   ]
  },
  {
   "cell_type": "code",
   "execution_count": 18,
   "metadata": {
    "execution": {
     "iopub.execute_input": "2020-08-08T17:05:39.788281Z",
     "iopub.status.busy": "2020-08-08T17:05:39.771294Z",
     "iopub.status.idle": "2020-08-08T17:05:39.806782Z",
     "shell.execute_reply": "2020-08-08T17:05:39.806005Z"
    },
    "papermill": {
     "duration": 0.067606,
     "end_time": "2020-08-08T17:05:39.806914",
     "exception": false,
     "start_time": "2020-08-08T17:05:39.739308",
     "status": "completed"
    },
    "tags": []
   },
   "outputs": [
    {
     "data": {
      "text/html": [
       "<div>\n",
       "<style scoped>\n",
       "    .dataframe tbody tr th:only-of-type {\n",
       "        vertical-align: middle;\n",
       "    }\n",
       "\n",
       "    .dataframe tbody tr th {\n",
       "        vertical-align: top;\n",
       "    }\n",
       "\n",
       "    .dataframe thead th {\n",
       "        text-align: right;\n",
       "    }\n",
       "</style>\n",
       "<table border=\"1\" class=\"dataframe\">\n",
       "  <thead>\n",
       "    <tr style=\"text-align: right;\">\n",
       "      <th>Title</th>\n",
       "      <th>Capt</th>\n",
       "      <th>Col</th>\n",
       "      <th>Don</th>\n",
       "      <th>Dr</th>\n",
       "      <th>Jonkheer</th>\n",
       "      <th>Lady</th>\n",
       "      <th>Major</th>\n",
       "      <th>Master</th>\n",
       "      <th>Miss</th>\n",
       "      <th>Mlle</th>\n",
       "      <th>Mme</th>\n",
       "      <th>Mr</th>\n",
       "      <th>Mrs</th>\n",
       "      <th>Ms</th>\n",
       "      <th>Rev</th>\n",
       "      <th>Sir</th>\n",
       "      <th>the Countess</th>\n",
       "    </tr>\n",
       "    <tr>\n",
       "      <th>Survived</th>\n",
       "      <th></th>\n",
       "      <th></th>\n",
       "      <th></th>\n",
       "      <th></th>\n",
       "      <th></th>\n",
       "      <th></th>\n",
       "      <th></th>\n",
       "      <th></th>\n",
       "      <th></th>\n",
       "      <th></th>\n",
       "      <th></th>\n",
       "      <th></th>\n",
       "      <th></th>\n",
       "      <th></th>\n",
       "      <th></th>\n",
       "      <th></th>\n",
       "      <th></th>\n",
       "    </tr>\n",
       "  </thead>\n",
       "  <tbody>\n",
       "    <tr>\n",
       "      <th>0.0</th>\n",
       "      <td>1.0</td>\n",
       "      <td>1.0</td>\n",
       "      <td>1.0</td>\n",
       "      <td>4.0</td>\n",
       "      <td>1.0</td>\n",
       "      <td>NaN</td>\n",
       "      <td>1.0</td>\n",
       "      <td>17.0</td>\n",
       "      <td>55.0</td>\n",
       "      <td>NaN</td>\n",
       "      <td>NaN</td>\n",
       "      <td>436.0</td>\n",
       "      <td>26.0</td>\n",
       "      <td>NaN</td>\n",
       "      <td>6.0</td>\n",
       "      <td>NaN</td>\n",
       "      <td>NaN</td>\n",
       "    </tr>\n",
       "    <tr>\n",
       "      <th>1.0</th>\n",
       "      <td>NaN</td>\n",
       "      <td>1.0</td>\n",
       "      <td>NaN</td>\n",
       "      <td>3.0</td>\n",
       "      <td>NaN</td>\n",
       "      <td>1.0</td>\n",
       "      <td>1.0</td>\n",
       "      <td>23.0</td>\n",
       "      <td>127.0</td>\n",
       "      <td>2.0</td>\n",
       "      <td>1.0</td>\n",
       "      <td>81.0</td>\n",
       "      <td>99.0</td>\n",
       "      <td>1.0</td>\n",
       "      <td>NaN</td>\n",
       "      <td>1.0</td>\n",
       "      <td>1.0</td>\n",
       "    </tr>\n",
       "  </tbody>\n",
       "</table>\n",
       "</div>"
      ],
      "text/plain": [
       "Title     Capt  Col  Don   Dr  Jonkheer  Lady  Major  Master   Miss  Mlle  \\\n",
       "Survived                                                                    \n",
       "0.0        1.0  1.0  1.0  4.0       1.0   NaN    1.0    17.0   55.0   NaN   \n",
       "1.0        NaN  1.0  NaN  3.0       NaN   1.0    1.0    23.0  127.0   2.0   \n",
       "\n",
       "Title     Mme     Mr   Mrs   Ms  Rev  Sir  the Countess  \n",
       "Survived                                                 \n",
       "0.0       NaN  436.0  26.0  NaN  6.0  NaN           NaN  \n",
       "1.0       1.0   81.0  99.0  1.0  NaN  1.0           1.0  "
      ]
     },
     "execution_count": 18,
     "metadata": {},
     "output_type": "execute_result"
    }
   ],
   "source": [
    "#examine breakdown between title and survival rate\n",
    "pd.pivot_table(df, columns='Title', index='Survived', values='Name', aggfunc='count')"
   ]
  },
  {
   "cell_type": "code",
   "execution_count": 19,
   "metadata": {
    "execution": {
     "iopub.execute_input": "2020-08-08T17:05:39.862301Z",
     "iopub.status.busy": "2020-08-08T17:05:39.860264Z",
     "iopub.status.idle": "2020-08-08T17:05:39.875757Z",
     "shell.execute_reply": "2020-08-08T17:05:39.874923Z"
    },
    "papermill": {
     "duration": 0.047269,
     "end_time": "2020-08-08T17:05:39.875894",
     "exception": false,
     "start_time": "2020-08-08T17:05:39.828625",
     "status": "completed"
    },
    "tags": []
   },
   "outputs": [
    {
     "data": {
      "text/plain": [
       "Mr                  757\n",
       "Miss                260\n",
       "Mrs                 197\n",
       "Master               61\n",
       "male_title_fifty     15\n",
       "male_title_dead      11\n",
       "female_title          8\n",
       "Name: title_grouped, dtype: int64"
      ]
     },
     "execution_count": 19,
     "metadata": {},
     "output_type": "execute_result"
    }
   ],
   "source": [
    "#consolidate titles\n",
    "#lady, mlle, mme, ms, and countess all had 1 pass each and all survived so can be grouped together as female_title\n",
    "#capt, don, jonkheer had 1 pass each and all died. all rev died so add that- male_title_dead\n",
    "#dr, col, major had 50% survive rate. one sir survived, but add him to 50/50 group - male_title_fifty\n",
    "\n",
    "female_title = {'Lady':'female_title', 'Mlle':'female_title', 'Mme':'female_title', \n",
    "                'Ms':'female_title', 'the Countess':'female_title', 'Dona':'female_title'}\n",
    "male_title_dead = {'Capt':'male_title_dead', 'Jonkheer':'male_title_dead', 'Don':'male_title_dead', 'Rev':'male_title_dead'}\n",
    "male_title_fifty = {'Dr':'male_title_fifty', 'Col':'male_title_fifty', 'Major':'male_title_fifty', 'Sir':'male_title_fifty'}\n",
    "df['title_grouped'] = df['Title'].replace(female_title).replace(male_title_dead).replace(male_title_fifty)\n",
    "df.title_grouped.value_counts()"
   ]
  },
  {
   "cell_type": "code",
   "execution_count": 20,
   "metadata": {
    "execution": {
     "iopub.execute_input": "2020-08-08T17:05:39.927048Z",
     "iopub.status.busy": "2020-08-08T17:05:39.925830Z",
     "iopub.status.idle": "2020-08-08T17:05:39.937779Z",
     "shell.execute_reply": "2020-08-08T17:05:39.936960Z"
    },
    "papermill": {
     "duration": 0.040159,
     "end_time": "2020-08-08T17:05:39.937916",
     "exception": false,
     "start_time": "2020-08-08T17:05:39.897757",
     "status": "completed"
    },
    "tags": []
   },
   "outputs": [
    {
     "data": {
      "text/plain": [
       "Title\n",
       "Capt            70.0\n",
       "Col             54.5\n",
       "Don             40.0\n",
       "Dona            39.0\n",
       "Dr              49.0\n",
       "Jonkheer        38.0\n",
       "Lady            48.0\n",
       "Major           48.5\n",
       "Master           4.0\n",
       "Miss            22.0\n",
       "Mlle            24.0\n",
       "Mme             24.0\n",
       "Mr              29.0\n",
       "Mrs             35.5\n",
       "Ms              28.0\n",
       "Rev             41.5\n",
       "Sir             49.0\n",
       "the Countess    33.0\n",
       "Name: Age, dtype: float64"
      ]
     },
     "execution_count": 20,
     "metadata": {},
     "output_type": "execute_result"
    }
   ],
   "source": [
    "#age by title. Can title help predict age?\n",
    "df.groupby(['Title']).Age.median()"
   ]
  },
  {
   "cell_type": "code",
   "execution_count": 21,
   "metadata": {
    "execution": {
     "iopub.execute_input": "2020-08-08T17:05:39.993097Z",
     "iopub.status.busy": "2020-08-08T17:05:39.991856Z",
     "iopub.status.idle": "2020-08-08T17:05:39.996439Z",
     "shell.execute_reply": "2020-08-08T17:05:39.995797Z"
    },
    "papermill": {
     "duration": 0.036722,
     "end_time": "2020-08-08T17:05:39.996608",
     "exception": false,
     "start_time": "2020-08-08T17:05:39.959886",
     "status": "completed"
    },
    "tags": []
   },
   "outputs": [
    {
     "data": {
      "text/plain": [
       "title_grouped\n",
       "Master               4.0\n",
       "Miss                22.0\n",
       "Mr                  29.0\n",
       "Mrs                 35.5\n",
       "female_title        28.0\n",
       "male_title_dead     41.0\n",
       "male_title_fifty    49.5\n",
       "Name: Age, dtype: float64"
      ]
     },
     "execution_count": 21,
     "metadata": {},
     "output_type": "execute_result"
    }
   ],
   "source": [
    "#age by title_grouped. Can the group of titles help predict age?\n",
    "df.groupby(['title_grouped']).Age.median()"
   ]
  },
  {
   "cell_type": "code",
   "execution_count": 22,
   "metadata": {
    "execution": {
     "iopub.execute_input": "2020-08-08T17:05:40.050695Z",
     "iopub.status.busy": "2020-08-08T17:05:40.049786Z",
     "iopub.status.idle": "2020-08-08T17:05:40.065923Z",
     "shell.execute_reply": "2020-08-08T17:05:40.065062Z"
    },
    "papermill": {
     "duration": 0.04728,
     "end_time": "2020-08-08T17:05:40.066081",
     "exception": false,
     "start_time": "2020-08-08T17:05:40.018801",
     "status": "completed"
    },
    "tags": []
   },
   "outputs": [
    {
     "data": {
      "text/plain": [
       "PassengerId         0\n",
       "Survived          418\n",
       "Pclass              0\n",
       "Name                0\n",
       "Sex                 0\n",
       "Age               255\n",
       "SibSp               0\n",
       "Parch               0\n",
       "Ticket              0\n",
       "Fare                0\n",
       "Cabin            1014\n",
       "Embarked            0\n",
       "dataset             0\n",
       "cabin_letter        0\n",
       "fare_grouped        0\n",
       "family_size         0\n",
       "Title               0\n",
       "title_grouped       0\n",
       "dtype: int64"
      ]
     },
     "execution_count": 22,
     "metadata": {},
     "output_type": "execute_result"
    }
   ],
   "source": [
    "#fill age for passengers w/ title Master\n",
    "master_age = df[df.Title == 'Master'].Age.mean()\n",
    "df.loc[(df.Age.isnull()) & (df.Title == 'Master'), 'Age'] = master_age\n",
    "df.isnull().sum()"
   ]
  },
  {
   "cell_type": "code",
   "execution_count": 23,
   "metadata": {
    "execution": {
     "iopub.execute_input": "2020-08-08T17:05:40.267196Z",
     "iopub.status.busy": "2020-08-08T17:05:40.240472Z",
     "iopub.status.idle": "2020-08-08T17:05:40.297129Z",
     "shell.execute_reply": "2020-08-08T17:05:40.295875Z"
    },
    "papermill": {
     "duration": 0.207733,
     "end_time": "2020-08-08T17:05:40.297302",
     "exception": false,
     "start_time": "2020-08-08T17:05:40.089569",
     "status": "completed"
    },
    "tags": []
   },
   "outputs": [
    {
     "name": "stdout",
     "output_type": "stream",
     "text": [
      "male 1 42.0\n",
      "male 2 29.5\n",
      "male 3 25.0\n",
      "female 1 36.0\n",
      "female 2 28.0\n",
      "female 3 22.0\n"
     ]
    },
    {
     "data": {
      "text/plain": [
       "PassengerId         0\n",
       "Survived          418\n",
       "Pclass              0\n",
       "Name                0\n",
       "Sex                 0\n",
       "Age                 0\n",
       "SibSp               0\n",
       "Parch               0\n",
       "Ticket              0\n",
       "Fare                0\n",
       "Cabin            1014\n",
       "Embarked            0\n",
       "dataset             0\n",
       "cabin_letter        0\n",
       "fare_grouped        0\n",
       "family_size         0\n",
       "Title               0\n",
       "title_grouped       0\n",
       "dtype: int64"
      ]
     },
     "execution_count": 23,
     "metadata": {},
     "output_type": "execute_result"
    }
   ],
   "source": [
    "#estimate age by grouping sex and pclass\n",
    "df.groupby(['Sex', 'Pclass']).Age.median()\n",
    "for i in ('male', 'female'):\n",
    "    for j in range(1,4):\n",
    "        dftemp = df[(df['Sex'] == i) & (df['Pclass'] == j)]['Age'].dropna()\n",
    "        print(i, j, dftemp.median())\n",
    "        df.loc[(df.Age.isnull()) & (df.Sex == i) & (df.Pclass == j), 'Age'] = int(dftemp.median())\n",
    "        \n",
    "df.isnull().sum()"
   ]
  },
  {
   "cell_type": "code",
   "execution_count": 24,
   "metadata": {
    "execution": {
     "iopub.execute_input": "2020-08-08T17:05:40.355522Z",
     "iopub.status.busy": "2020-08-08T17:05:40.354177Z",
     "iopub.status.idle": "2020-08-08T17:05:40.429657Z",
     "shell.execute_reply": "2020-08-08T17:05:40.428709Z"
    },
    "papermill": {
     "duration": 0.109142,
     "end_time": "2020-08-08T17:05:40.429800",
     "exception": false,
     "start_time": "2020-08-08T17:05:40.320658",
     "status": "completed"
    },
    "tags": []
   },
   "outputs": [
    {
     "name": "stdout",
     "output_type": "stream",
     "text": [
      "(16.336, 32.252]    346\n",
      "(32.252, 48.168]    188\n",
      "(0.34, 16.336]      100\n",
      "(48.168, 64.084]     69\n",
      "(64.084, 80.0]       11\n",
      "Name: Age, dtype: int64\n",
      "(21.0, 25.0]     353\n",
      "(0.169, 21.0]    298\n",
      "(29.0, 40.0]     261\n",
      "(40.0, 80.0]     255\n",
      "(25.0, 29.0]     142\n",
      "Name: Age, dtype: int64\n"
     ]
    },
    {
     "data": {
      "text/html": [
       "<div>\n",
       "<style scoped>\n",
       "    .dataframe tbody tr th:only-of-type {\n",
       "        vertical-align: middle;\n",
       "    }\n",
       "\n",
       "    .dataframe tbody tr th {\n",
       "        vertical-align: top;\n",
       "    }\n",
       "\n",
       "    .dataframe thead th {\n",
       "        text-align: right;\n",
       "    }\n",
       "</style>\n",
       "<table border=\"1\" class=\"dataframe\">\n",
       "  <thead>\n",
       "    <tr style=\"text-align: right;\">\n",
       "      <th>age_qcut</th>\n",
       "      <th>age_q1</th>\n",
       "      <th>age_q2</th>\n",
       "      <th>age_q3</th>\n",
       "      <th>age_q4</th>\n",
       "      <th>age_q5</th>\n",
       "    </tr>\n",
       "    <tr>\n",
       "      <th>Survived</th>\n",
       "      <th></th>\n",
       "      <th></th>\n",
       "      <th></th>\n",
       "      <th></th>\n",
       "      <th></th>\n",
       "    </tr>\n",
       "  </thead>\n",
       "  <tbody>\n",
       "    <tr>\n",
       "      <th>0.0</th>\n",
       "      <td>119</td>\n",
       "      <td>160</td>\n",
       "      <td>58</td>\n",
       "      <td>101</td>\n",
       "      <td>111</td>\n",
       "    </tr>\n",
       "    <tr>\n",
       "      <th>1.0</th>\n",
       "      <td>89</td>\n",
       "      <td>69</td>\n",
       "      <td>36</td>\n",
       "      <td>88</td>\n",
       "      <td>60</td>\n",
       "    </tr>\n",
       "  </tbody>\n",
       "</table>\n",
       "</div>"
      ],
      "text/plain": [
       "age_qcut  age_q1  age_q2  age_q3  age_q4  age_q5\n",
       "Survived                                        \n",
       "0.0          119     160      58     101     111\n",
       "1.0           89      69      36      88      60"
      ]
     },
     "execution_count": 24,
     "metadata": {},
     "output_type": "execute_result"
    }
   ],
   "source": [
    "#split age into catgorical groups\n",
    "age_labels = ['age_q1', 'age_q2', 'age_q3', 'age_q4', 'age_q5']\n",
    "df['age_qcut'] = pd.qcut(df.Age, 5, labels=age_labels)\n",
    "df['age_cut'] = pd.cut(train.Age, 5, labels=age_labels)\n",
    "print(pd.cut(train.Age, 5).value_counts())\n",
    "pd.pivot_table(data=df, columns='age_cut', index='Survived', values='Name', aggfunc='count')\n",
    "print(pd.qcut(df.Age, 5).value_counts())\n",
    "pd.pivot_table(data=df, columns='age_qcut', index='Survived', values='Name', aggfunc='count')"
   ]
  },
  {
   "cell_type": "code",
   "execution_count": 25,
   "metadata": {
    "execution": {
     "iopub.execute_input": "2020-08-08T17:05:40.496646Z",
     "iopub.status.busy": "2020-08-08T17:05:40.489449Z",
     "iopub.status.idle": "2020-08-08T17:05:41.786989Z",
     "shell.execute_reply": "2020-08-08T17:05:41.786223Z"
    },
    "papermill": {
     "duration": 1.334352,
     "end_time": "2020-08-08T17:05:41.787129",
     "exception": false,
     "start_time": "2020-08-08T17:05:40.452777",
     "status": "completed"
    },
    "tags": []
   },
   "outputs": [
    {
     "data": {
      "text/plain": [
       "[]"
      ]
     },
     "execution_count": 25,
     "metadata": {},
     "output_type": "execute_result"
    },
    {
     "data": {
      "image/png": "[encoded data removed]",
      "text/plain": [
       "<Figure size 430.5x360 with 1 Axes>"
      ]
     },
     "metadata": {
      "needs_background": "light"
     },
     "output_type": "display_data"
    },
    {
     "data": {
      "image/png": "[encoded data removed]",
      "text/plain": [
       "<Figure size 430.5x360 with 1 Axes>"
      ]
     },
     "metadata": {
      "needs_background": "light"
     },
     "output_type": "display_data"
    }
   ],
   "source": [
    "#visualize two diff methods for grouping age and their survival rate\n",
    "sns.catplot(data=df, x='age_cut', y='Survived', hue='Sex', kind='point')\n",
    "sns.catplot(data=df, x='age_qcut', y='Survived', hue='Sex', kind='point')\n",
    "plt.plot()\n",
    "#qcut results in age groups w/ equivalent survival rates; not an effective grouping method since you need differences between\n",
    "#groups to inform the model"
   ]
  },
  {
   "cell_type": "markdown",
   "metadata": {
    "papermill": {
     "duration": 0.02346,
     "end_time": "2020-08-08T17:05:41.834633",
     "exception": false,
     "start_time": "2020-08-08T17:05:41.811173",
     "status": "completed"
    },
    "tags": []
   },
   "source": [
    "# Start to build models. Compare performance of random forest, naive bayes, support vector machine, and KNN"
   ]
  },
  {
   "cell_type": "code",
   "execution_count": 26,
   "metadata": {
    "execution": {
     "iopub.execute_input": "2020-08-08T17:05:41.896425Z",
     "iopub.status.busy": "2020-08-08T17:05:41.891580Z",
     "iopub.status.idle": "2020-08-08T17:05:41.922821Z",
     "shell.execute_reply": "2020-08-08T17:05:41.922055Z"
    },
    "papermill": {
     "duration": 0.064502,
     "end_time": "2020-08-08T17:05:41.922979",
     "exception": false,
     "start_time": "2020-08-08T17:05:41.858477",
     "status": "completed"
    },
    "tags": []
   },
   "outputs": [
    {
     "data": {
      "text/plain": [
       "(891,)"
      ]
     },
     "execution_count": 26,
     "metadata": {},
     "output_type": "execute_result"
    }
   ],
   "source": [
    "#features to include in model\n",
    "features = ['age_cut', 'fare_grouped', 'Pclass', 'Sex', 'Embarked','title_grouped', 'family_size', 'dataset']\n",
    "#numerical encoding of categorical features so they can be used in the ML models\n",
    "df_dummies = pd.get_dummies(df[features])\n",
    "\n",
    "#split df to train data and test data\n",
    "x_train = df_dummies[df_dummies.dataset_train == 1].drop(['dataset_test', 'dataset_train'], axis=1)\n",
    "x_test = df_dummies[df_dummies.dataset_test == 1].drop(['dataset_test', 'dataset_train'], axis=1)\n",
    "\n",
    "#save feature list for later\n",
    "feature_list = list(x_train.columns)\n",
    "\n",
    "y_train = df[df.dataset == 'train'].Survived\n",
    "y_train.shape"
   ]
  },
  {
   "cell_type": "code",
   "execution_count": 27,
   "metadata": {
    "execution": {
     "iopub.execute_input": "2020-08-08T17:05:41.978178Z",
     "iopub.status.busy": "2020-08-08T17:05:41.977366Z",
     "iopub.status.idle": "2020-08-08T17:05:42.064169Z",
     "shell.execute_reply": "2020-08-08T17:05:42.063368Z"
    },
    "papermill": {
     "duration": 0.117382,
     "end_time": "2020-08-08T17:05:42.064307",
     "exception": false,
     "start_time": "2020-08-08T17:05:41.946925",
     "status": "completed"
    },
    "tags": []
   },
   "outputs": [],
   "source": [
    "from sklearn.preprocessing import StandardScaler\n",
    "\n",
    "scaler = StandardScaler()\n",
    "x_train_scaled = scaler.fit_transform(x_train)\n",
    "x_test_scaled = scaler.transform(x_test)"
   ]
  },
  {
   "cell_type": "code",
   "execution_count": 28,
   "metadata": {
    "execution": {
     "iopub.execute_input": "2020-08-08T17:05:42.121029Z",
     "iopub.status.busy": "2020-08-08T17:05:42.120167Z",
     "iopub.status.idle": "2020-08-08T17:05:42.676363Z",
     "shell.execute_reply": "2020-08-08T17:05:42.676966Z"
    },
    "papermill": {
     "duration": 0.588401,
     "end_time": "2020-08-08T17:05:42.677156",
     "exception": false,
     "start_time": "2020-08-08T17:05:42.088755",
     "status": "completed"
    },
    "tags": []
   },
   "outputs": [
    {
     "data": {
      "text/plain": [
       "0.8395061728395061"
      ]
     },
     "execution_count": 28,
     "metadata": {},
     "output_type": "execute_result"
    }
   ],
   "source": [
    "from sklearn.ensemble import RandomForestClassifier\n",
    "from sklearn.model_selection import train_test_split\n",
    "from sklearn.model_selection import cross_val_score\n",
    "\n",
    "rfc = RandomForestClassifier(random_state=1, max_depth=5)\n",
    "rfc.fit(x_train_scaled, y_train)\n",
    "rfc_score = rfc.score(x_train_scaled, y_train)\n",
    "rfc_score"
   ]
  },
  {
   "cell_type": "code",
   "execution_count": 29,
   "metadata": {
    "execution": {
     "iopub.execute_input": "2020-08-08T17:05:42.736498Z",
     "iopub.status.busy": "2020-08-08T17:05:42.734883Z",
     "iopub.status.idle": "2020-08-08T17:05:42.813044Z",
     "shell.execute_reply": "2020-08-08T17:05:42.812172Z"
    },
    "papermill": {
     "duration": 0.109376,
     "end_time": "2020-08-08T17:05:42.813187",
     "exception": false,
     "start_time": "2020-08-08T17:05:42.703811",
     "status": "completed"
    },
    "tags": []
   },
   "outputs": [],
   "source": [
    "from sklearn.neighbors import KNeighborsClassifier\n",
    "knn = KNeighborsClassifier(n_neighbors = 3)\n",
    "knn.fit(x_train_scaled, y_train)\n",
    "knn_score = knn.score(x_train_scaled, y_train)"
   ]
  },
  {
   "cell_type": "code",
   "execution_count": 30,
   "metadata": {
    "execution": {
     "iopub.execute_input": "2020-08-08T17:05:42.869705Z",
     "iopub.status.busy": "2020-08-08T17:05:42.868556Z",
     "iopub.status.idle": "2020-08-08T17:05:42.879366Z",
     "shell.execute_reply": "2020-08-08T17:05:42.878404Z"
    },
    "papermill": {
     "duration": 0.041638,
     "end_time": "2020-08-08T17:05:42.879511",
     "exception": false,
     "start_time": "2020-08-08T17:05:42.837873",
     "status": "completed"
    },
    "tags": []
   },
   "outputs": [],
   "source": [
    "from sklearn.naive_bayes import GaussianNB\n",
    "nb = GaussianNB()\n",
    "nb.fit(x_train_scaled, y_train)\n",
    "nb_score = nb.score(x_train_scaled, y_train)"
   ]
  },
  {
   "cell_type": "code",
   "execution_count": 31,
   "metadata": {
    "execution": {
     "iopub.execute_input": "2020-08-08T17:05:42.936209Z",
     "iopub.status.busy": "2020-08-08T17:05:42.935376Z",
     "iopub.status.idle": "2020-08-08T17:05:42.989134Z",
     "shell.execute_reply": "2020-08-08T17:05:42.989748Z"
    },
    "papermill": {
     "duration": 0.085401,
     "end_time": "2020-08-08T17:05:42.989968",
     "exception": false,
     "start_time": "2020-08-08T17:05:42.904567",
     "status": "completed"
    },
    "tags": []
   },
   "outputs": [],
   "source": [
    "from sklearn.svm import SVC\n",
    "svc = SVC()\n",
    "svc.fit(x_train_scaled, y_train)\n",
    "svc_score = svc.score(x_train_scaled, y_train)"
   ]
  },
  {
   "cell_type": "code",
   "execution_count": 32,
   "metadata": {
    "execution": {
     "iopub.execute_input": "2020-08-08T17:05:43.048564Z",
     "iopub.status.busy": "2020-08-08T17:05:43.047156Z",
     "iopub.status.idle": "2020-08-08T17:05:43.052650Z",
     "shell.execute_reply": "2020-08-08T17:05:43.051862Z"
    },
    "papermill": {
     "duration": 0.037235,
     "end_time": "2020-08-08T17:05:43.052798",
     "exception": false,
     "start_time": "2020-08-08T17:05:43.015563",
     "status": "completed"
    },
    "tags": []
   },
   "outputs": [
    {
     "data": {
      "text/plain": [
       "[0.8395061728395061,\n",
       " 0.8664421997755332,\n",
       " 0.8406285072951739,\n",
       " 0.7946127946127947]"
      ]
     },
     "execution_count": 32,
     "metadata": {},
     "output_type": "execute_result"
    }
   ],
   "source": [
    "baseline_scores = [rfc_score, knn_score, svc_score, nb_score]\n",
    "baseline_scores"
   ]
  },
  {
   "cell_type": "markdown",
   "metadata": {
    "papermill": {
     "duration": 0.02432,
     "end_time": "2020-08-08T17:05:43.102966",
     "exception": false,
     "start_time": "2020-08-08T17:05:43.078646",
     "status": "completed"
    },
    "tags": []
   },
   "source": [
    "# Improve models w/ hyperparameter tuning"
   ]
  },
  {
   "cell_type": "code",
   "execution_count": 33,
   "metadata": {
    "execution": {
     "iopub.execute_input": "2020-08-08T17:05:43.158578Z",
     "iopub.status.busy": "2020-08-08T17:05:43.157541Z",
     "iopub.status.idle": "2020-08-08T17:05:43.161426Z",
     "shell.execute_reply": "2020-08-08T17:05:43.160631Z"
    },
    "papermill": {
     "duration": 0.034004,
     "end_time": "2020-08-08T17:05:43.161562",
     "exception": false,
     "start_time": "2020-08-08T17:05:43.127558",
     "status": "completed"
    },
    "tags": []
   },
   "outputs": [],
   "source": [
    "#use grid/random search to improve baseline models by exploring hyperparameter space\n",
    "from sklearn.model_selection import GridSearchCV \n",
    "from sklearn.model_selection import RandomizedSearchCV"
   ]
  },
  {
   "cell_type": "code",
   "execution_count": 34,
   "metadata": {
    "execution": {
     "iopub.execute_input": "2020-08-08T17:05:43.219318Z",
     "iopub.status.busy": "2020-08-08T17:05:43.218217Z",
     "iopub.status.idle": "2020-08-08T17:05:43.222042Z",
     "shell.execute_reply": "2020-08-08T17:05:43.221269Z"
    },
    "papermill": {
     "duration": 0.035761,
     "end_time": "2020-08-08T17:05:43.222174",
     "exception": false,
     "start_time": "2020-08-08T17:05:43.186413",
     "status": "completed"
    },
    "tags": []
   },
   "outputs": [],
   "source": [
    "#simple fxn that returns the best score and the corresponding parameters of the grid search\n",
    "def clf_performance(model_name, classifier):\n",
    "    print(model_name)\n",
    "    print('Best Score: ' + str(classifier.best_score_))\n",
    "    print('Best Params: ' +str(classifier.best_params_))"
   ]
  },
  {
   "cell_type": "code",
   "execution_count": 35,
   "metadata": {
    "execution": {
     "iopub.execute_input": "2020-08-08T17:05:43.282445Z",
     "iopub.status.busy": "2020-08-08T17:05:43.281597Z",
     "iopub.status.idle": "2020-08-08T17:05:46.266107Z",
     "shell.execute_reply": "2020-08-08T17:05:46.266883Z"
    },
    "papermill": {
     "duration": 3.019661,
     "end_time": "2020-08-08T17:05:46.267131",
     "exception": false,
     "start_time": "2020-08-08T17:05:43.247470",
     "status": "completed"
    },
    "tags": []
   },
   "outputs": [
    {
     "name": "stdout",
     "output_type": "stream",
     "text": [
      "Fitting 5 folds for each of 36 candidates, totalling 180 fits\n"
     ]
    },
    {
     "name": "stderr",
     "output_type": "stream",
     "text": [
      "[Parallel(n_jobs=-1)]: Using backend LokyBackend with 4 concurrent workers.\n",
      "[Parallel(n_jobs=-1)]: Done  68 tasks      | elapsed:    2.4s\n"
     ]
    },
    {
     "name": "stdout",
     "output_type": "stream",
     "text": [
      "KNN\n",
      "Best Score: 0.815931203314293\n",
      "Best Params: {'algorithm': 'auto', 'n_neighbors': 7, 'p': 1, 'weights': 'uniform'}\n"
     ]
    },
    {
     "name": "stderr",
     "output_type": "stream",
     "text": [
      "[Parallel(n_jobs=-1)]: Done 180 out of 180 | elapsed:    2.9s finished\n"
     ]
    }
   ],
   "source": [
    "knn2 = KNeighborsClassifier()\n",
    "param_grid = {'n_neighbors' :[3,5,7],\n",
    "             'weights' : ['uniform', 'distance'],\n",
    "             'algorithm' : ['auto', 'ball_tree', 'kd_tree'],\n",
    "             'p' : [1,2]}\n",
    "clf_knn = GridSearchCV(knn, param_grid=param_grid, cv=5, verbose=True, n_jobs=-1)\n",
    "best_clf_knn = clf_knn.fit(x_train_scaled, y_train)\n",
    "clf_performance('KNN', best_clf_knn)"
   ]
  },
  {
   "cell_type": "code",
   "execution_count": 36,
   "metadata": {
    "execution": {
     "iopub.execute_input": "2020-08-08T17:05:46.331404Z",
     "iopub.status.busy": "2020-08-08T17:05:46.330265Z",
     "iopub.status.idle": "2020-08-08T17:09:28.219311Z",
     "shell.execute_reply": "2020-08-08T17:09:28.218613Z"
    },
    "papermill": {
     "duration": 221.926738,
     "end_time": "2020-08-08T17:09:28.219495",
     "exception": false,
     "start_time": "2020-08-08T17:05:46.292757",
     "status": "completed"
    },
    "tags": []
   },
   "outputs": [
    {
     "name": "stderr",
     "output_type": "stream",
     "text": [
      "[Parallel(n_jobs=-1)]: Using backend LokyBackend with 4 concurrent workers.\n"
     ]
    },
    {
     "name": "stdout",
     "output_type": "stream",
     "text": [
      "Fitting 5 folds for each of 55 candidates, totalling 275 fits\n"
     ]
    },
    {
     "name": "stderr",
     "output_type": "stream",
     "text": [
      "[Parallel(n_jobs=-1)]: Done 128 tasks      | elapsed:    1.5s\n"
     ]
    },
    {
     "name": "stdout",
     "output_type": "stream",
     "text": [
      "SVC\n",
      "Best Score: 0.8260184545853996\n",
      "Best Params: {'C': 1, 'kernel': 'linear'}\n"
     ]
    },
    {
     "name": "stderr",
     "output_type": "stream",
     "text": [
      "[Parallel(n_jobs=-1)]: Done 275 out of 275 | elapsed:  3.7min finished\n"
     ]
    }
   ],
   "source": [
    "svc2 = SVC()\n",
    "param_grid = [{'kernel' : ['rbf'],'gamma': [.1, .5, 1, 2, 5, 10],'C':[.1, 1, 10, 100, 1000]},\n",
    "              {'kernel' : ['linear'], 'C':[.1, 1, 10, 100, 1000]},\n",
    "              {'kernel': ['poly'], 'degree' : [2,3,4,5], 'C':[.1,1,10,100,1000]}]\n",
    "clf_svc = GridSearchCV(svc, param_grid=param_grid, cv=5, verbose=True, n_jobs=-1)\n",
    "best_clf_svc = clf_svc.fit(x_train_scaled, y_train)\n",
    "clf_performance('SVC', best_clf_svc)"
   ]
  },
  {
   "cell_type": "code",
   "execution_count": 37,
   "metadata": {
    "execution": {
     "iopub.execute_input": "2020-08-08T17:09:28.285327Z",
     "iopub.status.busy": "2020-08-08T17:09:28.284209Z",
     "iopub.status.idle": "2020-08-08T17:13:22.085198Z",
     "shell.execute_reply": "2020-08-08T17:13:22.084286Z"
    },
    "papermill": {
     "duration": 233.83921,
     "end_time": "2020-08-08T17:13:22.085396",
     "exception": false,
     "start_time": "2020-08-08T17:09:28.246186",
     "status": "completed"
    },
    "tags": []
   },
   "outputs": [
    {
     "name": "stderr",
     "output_type": "stream",
     "text": [
      "[Parallel(n_jobs=-1)]: Using backend LokyBackend with 4 concurrent workers.\n"
     ]
    },
    {
     "name": "stdout",
     "output_type": "stream",
     "text": [
      "Fitting 5 folds for each of 100 candidates, totalling 500 fits\n"
     ]
    },
    {
     "name": "stderr",
     "output_type": "stream",
     "text": [
      "[Parallel(n_jobs=-1)]: Done  42 tasks      | elapsed:   20.9s\n",
      "[Parallel(n_jobs=-1)]: Done 192 tasks      | elapsed:  1.6min\n",
      "[Parallel(n_jobs=-1)]: Done 442 tasks      | elapsed:  3.4min\n",
      "[Parallel(n_jobs=-1)]: Done 500 out of 500 | elapsed:  3.9min finished\n"
     ]
    },
    {
     "name": "stdout",
     "output_type": "stream",
     "text": [
      "RFC\n",
      "Best Score: 0.8293955181721173\n",
      "Best Params: {'n_estimators': 500, 'min_samples_split': 10, 'min_samples_leaf': 2, 'max_features': 'auto', 'max_depth': 75, 'bootstrap': True}\n"
     ]
    }
   ],
   "source": [
    "rfc2 = RandomForestClassifier()\n",
    "param_grid = {'n_estimators': [100, 500, 1000],\n",
    "             'bootstrap':[True, False],\n",
    "             'max_depth':[3,5,10,20,50, 75],\n",
    "             'max_features':['auto', 'sqrt'],\n",
    "             'min_samples_leaf':[1,2,4,8],\n",
    "             'min_samples_split':[2,5,10]}\n",
    "clf_rfc = RandomizedSearchCV(rfc, param_distributions=param_grid, n_iter=100, cv=5, verbose=True, n_jobs=-1)\n",
    "best_clf_rfc = clf_rfc.fit(x_train_scaled, y_train)\n",
    "clf_performance('RFC', best_clf_rfc)"
   ]
  },
  {
   "cell_type": "code",
   "execution_count": 38,
   "metadata": {
    "execution": {
     "iopub.execute_input": "2020-08-08T17:13:22.156071Z",
     "iopub.status.busy": "2020-08-08T17:13:22.153877Z",
     "iopub.status.idle": "2020-08-08T17:13:22.170768Z",
     "shell.execute_reply": "2020-08-08T17:13:22.169533Z"
    },
    "papermill": {
     "duration": 0.058874,
     "end_time": "2020-08-08T17:13:22.171004",
     "exception": false,
     "start_time": "2020-08-08T17:13:22.112130",
     "status": "completed"
    },
    "tags": []
   },
   "outputs": [
    {
     "name": "stdout",
     "output_type": "stream",
     "text": [
      "Variable: title_grouped_Mr     Importance: 0.2356\n",
      "Variable: Sex_female           Importance: 0.1757\n",
      "Variable: Sex_male             Importance: 0.1305\n",
      "Variable: Pclass               Importance: 0.1252\n",
      "Variable: family_size          Importance: 0.0685\n",
      "Variable: title_grouped_Mrs    Importance: 0.049\n",
      "Variable: title_grouped_Miss   Importance: 0.046\n",
      "Variable: fare_grouped_fare_q4 Importance: 0.0292\n",
      "Variable: fare_grouped_fare_q1 Importance: 0.0191\n",
      "Variable: title_grouped_Master Importance: 0.0162\n",
      "Variable: Embarked_S           Importance: 0.0152\n",
      "Variable: age_cut_age_q1       Importance: 0.0119\n",
      "Variable: Embarked_C           Importance: 0.0117\n",
      "Variable: age_cut_age_q2       Importance: 0.0115\n",
      "Variable: fare_grouped_fare_q3 Importance: 0.0114\n",
      "Variable: title_grouped_male_title_dead Importance: 0.0088\n",
      "Variable: Embarked_Q           Importance: 0.0076\n",
      "Variable: age_cut_age_q3       Importance: 0.0073\n",
      "Variable: fare_grouped_fare_q2 Importance: 0.0066\n",
      "Variable: age_cut_age_q4       Importance: 0.0054\n",
      "Variable: title_grouped_male_title_fifty Importance: 0.0038\n",
      "Variable: age_cut_age_q5       Importance: 0.0019\n",
      "Variable: title_grouped_female_title Importance: 0.0019\n"
     ]
    }
   ],
   "source": [
    "# Get numerical feature importances\n",
    "importances = list(rfc.feature_importances_)\n",
    "# List of tuples with variable and importance\n",
    "feature_importances = [(feature, round(importance, 4)) for feature, importance in zip(feature_list, importances)]\n",
    "# Sort the feature importances by most important first\n",
    "feature_importances = sorted(feature_importances, key = lambda x: x[1], reverse = True)\n",
    "# Print out the feature and importances \n",
    "[print('Variable: {:20} Importance: {}'.format(*pair)) for pair in feature_importances];"
   ]
  },
  {
   "cell_type": "code",
   "execution_count": 39,
   "metadata": {
    "execution": {
     "iopub.execute_input": "2020-08-08T17:13:22.233074Z",
     "iopub.status.busy": "2020-08-08T17:13:22.232252Z",
     "iopub.status.idle": "2020-08-08T17:13:23.829183Z",
     "shell.execute_reply": "2020-08-08T17:13:23.828498Z"
    },
    "papermill": {
     "duration": 1.630241,
     "end_time": "2020-08-08T17:13:23.829354",
     "exception": false,
     "start_time": "2020-08-08T17:13:22.199113",
     "status": "completed"
    },
    "tags": []
   },
   "outputs": [
    {
     "data": {
      "text/plain": [
       "<matplotlib.axes._subplots.AxesSubplot at 0x7f65702a9e10>"
      ]
     },
     "execution_count": 39,
     "metadata": {},
     "output_type": "execute_result"
    },
    {
     "data": {
      "image/png": "[encoded data removed]",
      "text/plain": [
       "<Figure size 432x288 with 1 Axes>"
      ]
     },
     "metadata": {
      "needs_background": "light"
     },
     "output_type": "display_data"
    }
   ],
   "source": [
    "#visualize top 20 features the model is using to predict survival\n",
    "best_rfc = best_clf_rfc.best_estimator_.fit(x_train_scaled,y_train)\n",
    "\n",
    "feat_importances = pd.Series(best_rfc.feature_importances_, index=feature_list)\n",
    "feat_importances.nlargest(20).plot(kind='barh')"
   ]
  },
  {
   "cell_type": "code",
   "execution_count": 40,
   "metadata": {
    "execution": {
     "iopub.execute_input": "2020-08-08T17:13:23.895181Z",
     "iopub.status.busy": "2020-08-08T17:13:23.894283Z",
     "iopub.status.idle": "2020-08-08T17:13:24.064275Z",
     "shell.execute_reply": "2020-08-08T17:13:24.063627Z"
    },
    "papermill": {
     "duration": 0.207876,
     "end_time": "2020-08-08T17:13:24.064416",
     "exception": false,
     "start_time": "2020-08-08T17:13:23.856540",
     "status": "completed"
    },
    "tags": []
   },
   "outputs": [
    {
     "data": {
      "text/plain": [
       "<matplotlib.legend.Legend at 0x7f657016b290>"
      ]
     },
     "execution_count": 40,
     "metadata": {},
     "output_type": "execute_result"
    },
    {
     "data": {
      "image/png": "[encoded data removed]",
      "text/plain": [
       "<Figure size 432x288 with 1 Axes>"
      ]
     },
     "metadata": {
      "needs_background": "light"
     },
     "output_type": "display_data"
    }
   ],
   "source": [
    "#compare baseline and opt scores\n",
    "baseline_scores = [rfc_score, knn_score, svc_score, nb_score]\n",
    "opt_scores = [best_clf_rfc.best_score_, best_clf_knn.best_score_, best_clf_svc.best_score_, 0]\n",
    "#scores = {'Base':baseline_scores, 'opt':opt_scores}\n",
    "scores=pd.DataFrame({'baseline':baseline_scores,\n",
    "                    'opt':opt_scores,\n",
    "                    'model':['rfc', 'knn', 'svc', 'nb']})\n",
    "plt.bar(scores.model, scores.baseline)\n",
    "plt.bar(scores.model, scores.opt)\n",
    "plt.legend(['baseline', 'opt'])"
   ]
  },
  {
   "cell_type": "code",
   "execution_count": 41,
   "metadata": {
    "execution": {
     "iopub.execute_input": "2020-08-08T17:13:24.128294Z",
     "iopub.status.busy": "2020-08-08T17:13:24.127464Z",
     "iopub.status.idle": "2020-08-08T17:13:24.330394Z",
     "shell.execute_reply": "2020-08-08T17:13:24.329554Z"
    },
    "papermill": {
     "duration": 0.238251,
     "end_time": "2020-08-08T17:13:24.330529",
     "exception": false,
     "start_time": "2020-08-08T17:13:24.092278",
     "status": "completed"
    },
    "tags": []
   },
   "outputs": [],
   "source": [
    "predictions_rfc = rfc.predict(x_test_scaled).astype(int)\n",
    "predictions_best_rfc = best_clf_rfc.predict(x_test_scaled).astype(int)\n",
    "predictions_knn = knn.predict(x_test_scaled).astype(int)\n",
    "predictions_best_knn = best_clf_rfc.predict(x_test_scaled).astype(int)"
   ]
  },
  {
   "cell_type": "code",
   "execution_count": 42,
   "metadata": {
    "execution": {
     "iopub.execute_input": "2020-08-08T17:13:24.399429Z",
     "iopub.status.busy": "2020-08-08T17:13:24.398603Z",
     "iopub.status.idle": "2020-08-08T17:13:24.546843Z",
     "shell.execute_reply": "2020-08-08T17:13:24.545959Z"
    },
    "papermill": {
     "duration": 0.188602,
     "end_time": "2020-08-08T17:13:24.547050",
     "exception": false,
     "start_time": "2020-08-08T17:13:24.358448",
     "status": "completed"
    },
    "tags": []
   },
   "outputs": [
    {
     "data": {
      "text/html": [
       "<div>\n",
       "<style scoped>\n",
       "    .dataframe tbody tr th:only-of-type {\n",
       "        vertical-align: middle;\n",
       "    }\n",
       "\n",
       "    .dataframe tbody tr th {\n",
       "        vertical-align: top;\n",
       "    }\n",
       "\n",
       "    .dataframe thead th {\n",
       "        text-align: right;\n",
       "    }\n",
       "</style>\n",
       "<table border=\"1\" class=\"dataframe\">\n",
       "  <thead>\n",
       "    <tr style=\"text-align: right;\">\n",
       "      <th></th>\n",
       "      <th>PassengerId</th>\n",
       "      <th>Survived</th>\n",
       "    </tr>\n",
       "  </thead>\n",
       "  <tbody>\n",
       "    <tr>\n",
       "      <th>0</th>\n",
       "      <td>892</td>\n",
       "      <td>0</td>\n",
       "    </tr>\n",
       "    <tr>\n",
       "      <th>1</th>\n",
       "      <td>893</td>\n",
       "      <td>1</td>\n",
       "    </tr>\n",
       "    <tr>\n",
       "      <th>2</th>\n",
       "      <td>894</td>\n",
       "      <td>0</td>\n",
       "    </tr>\n",
       "    <tr>\n",
       "      <th>3</th>\n",
       "      <td>895</td>\n",
       "      <td>0</td>\n",
       "    </tr>\n",
       "    <tr>\n",
       "      <th>4</th>\n",
       "      <td>896</td>\n",
       "      <td>1</td>\n",
       "    </tr>\n",
       "    <tr>\n",
       "      <th>5</th>\n",
       "      <td>897</td>\n",
       "      <td>0</td>\n",
       "    </tr>\n",
       "    <tr>\n",
       "      <th>6</th>\n",
       "      <td>898</td>\n",
       "      <td>1</td>\n",
       "    </tr>\n",
       "    <tr>\n",
       "      <th>7</th>\n",
       "      <td>899</td>\n",
       "      <td>0</td>\n",
       "    </tr>\n",
       "    <tr>\n",
       "      <th>8</th>\n",
       "      <td>900</td>\n",
       "      <td>1</td>\n",
       "    </tr>\n",
       "    <tr>\n",
       "      <th>9</th>\n",
       "      <td>901</td>\n",
       "      <td>0</td>\n",
       "    </tr>\n",
       "    <tr>\n",
       "      <th>10</th>\n",
       "      <td>902</td>\n",
       "      <td>0</td>\n",
       "    </tr>\n",
       "    <tr>\n",
       "      <th>11</th>\n",
       "      <td>903</td>\n",
       "      <td>0</td>\n",
       "    </tr>\n",
       "    <tr>\n",
       "      <th>12</th>\n",
       "      <td>904</td>\n",
       "      <td>1</td>\n",
       "    </tr>\n",
       "    <tr>\n",
       "      <th>13</th>\n",
       "      <td>905</td>\n",
       "      <td>0</td>\n",
       "    </tr>\n",
       "    <tr>\n",
       "      <th>14</th>\n",
       "      <td>906</td>\n",
       "      <td>1</td>\n",
       "    </tr>\n",
       "    <tr>\n",
       "      <th>15</th>\n",
       "      <td>907</td>\n",
       "      <td>1</td>\n",
       "    </tr>\n",
       "    <tr>\n",
       "      <th>16</th>\n",
       "      <td>908</td>\n",
       "      <td>0</td>\n",
       "    </tr>\n",
       "    <tr>\n",
       "      <th>17</th>\n",
       "      <td>909</td>\n",
       "      <td>0</td>\n",
       "    </tr>\n",
       "    <tr>\n",
       "      <th>18</th>\n",
       "      <td>910</td>\n",
       "      <td>0</td>\n",
       "    </tr>\n",
       "    <tr>\n",
       "      <th>19</th>\n",
       "      <td>911</td>\n",
       "      <td>1</td>\n",
       "    </tr>\n",
       "  </tbody>\n",
       "</table>\n",
       "</div>"
      ],
      "text/plain": [
       "    PassengerId  Survived\n",
       "0           892         0\n",
       "1           893         1\n",
       "2           894         0\n",
       "3           895         0\n",
       "4           896         1\n",
       "5           897         0\n",
       "6           898         1\n",
       "7           899         0\n",
       "8           900         1\n",
       "9           901         0\n",
       "10          902         0\n",
       "11          903         0\n",
       "12          904         1\n",
       "13          905         0\n",
       "14          906         1\n",
       "15          907         1\n",
       "16          908         0\n",
       "17          909         0\n",
       "18          910         0\n",
       "19          911         1"
      ]
     },
     "execution_count": 42,
     "metadata": {},
     "output_type": "execute_result"
    }
   ],
   "source": [
    "output = []\n",
    "output = pd.DataFrame({'PassengerId':test.PassengerId, 'Survived':predictions_rfc})\n",
    "output.to_csv('submission_rfc.csv', index=False)\n",
    "\n",
    "output2 = []\n",
    "output2 = pd.DataFrame({'PassengerId':test.PassengerId, 'Survived':predictions_best_rfc})\n",
    "output2.to_csv('submission_best_rfc.csv', index=False)\n",
    "\n",
    "output3 = []\n",
    "output3 = pd.DataFrame({'PassengerId':test.PassengerId, 'Survived':predictions_knn})\n",
    "output3.to_csv('submission_knn.csv', index=False)\n",
    "\n",
    "output4 = []\n",
    "output4 = pd.DataFrame({'PassengerId':test.PassengerId, 'Survived':predictions_best_knn})\n",
    "output4.to_csv('submission_best_knn.csv', index=False)\n",
    "output4.head(20)"
   ]
  }
 ],
 "metadata": {
  "kernelspec": {
   "display_name": "Python 3",
   "language": "python",
   "name": "python3"
  },
  "language_info": {
   "codemirror_mode": {
    "name": "ipython",
    "version": 3.0
   },
   "file_extension": ".py",
   "mimetype": "text/x-python",
   "name": "python",
   "nbconvert_exporter": "python",
   "pygments_lexer": "ipython3",
   "version": "3.7.6"
  },
  "papermill": {
   "duration": 479.359424,
   "end_time": "2020-08-08T17:13:24.689670",
   "environment_variables": {},
   "exception": null,
   "input_path": "__notebook__.ipynb",
   "output_path": "__notebook__.ipynb",
   "parameters": {},
   "start_time": "2020-08-08T17:05:25.330246",
   "version": "2.1.0"
  }
 },
 "nbformat": 4,
 "nbformat_minor": 0
}